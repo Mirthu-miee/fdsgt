{
 "cells": [
  {
   "cell_type": "code",
   "execution_count": null,
   "metadata": {},
   "outputs": [
    {
     "name": "stdout",
     "output_type": "stream",
     "text": [
      "   Year  Cell Phones (millions)  Population (millions)  \\\n",
      "0  2000                     120                   6000   \n",
      "1  2005                     250                   6500   \n",
      "2  2010                     450                   7000   \n",
      "3  2015                     700                   7500   \n",
      "4  2020                     900                   8000   \n",
      "\n",
      "   Cell Phones per 100 people  \n",
      "0                    2.000000  \n",
      "1                    3.846154  \n",
      "2                    6.428571  \n",
      "3                    9.333333  \n",
      "4                   11.250000  \n",
      "\n",
      "Validation Results:\n",
      "   Year  Cell Phones per 100 people  Expected Cell Phones per 100 people  \\\n",
      "0  2000                    2.000000                                 2.00   \n",
      "1  2005                    3.846154                                 3.85   \n",
      "2  2010                    6.428571                                 6.43   \n",
      "3  2015                    9.333333                                 9.33   \n",
      "4  2020                   11.250000                                11.25   \n",
      "\n",
      "   Valid  \n",
      "0   True  \n",
      "1   True  \n",
      "2   True  \n",
      "3   True  \n",
      "4   True  \n"
     ]
    }
   ],
   "source": [
    "import pandas as pd\n",
    "\n",
    "cell_phones_data = {\n",
    "    'Year': [2000, 2005, 2010, 2015, 2020],\n",
    "    'Cell Phones (millions)': [120, 250, 450, 700, 900]\n",
    "}\n",
    "\n",
    "population_data = {\n",
    "    'Year': [2000, 2005, 2010, 2015, 2020],\n",
    "    'Population (millions)': [6000, 6500, 7000, 7500, 8000]\n",
    "}\n",
    "\n",
    "df_cell_phones = pd.DataFrame(cell_phones_data)\n",
    "df_population = pd.DataFrame(population_data)\n",
    "\n",
    "df = pd.merge(df_cell_phones, df_population, on='Year')\n",
    "\n",
    "df['Cell Phones per 100 people'] = (df['Cell Phones (millions)'] / df['Population (millions)']) * 100\n",
    "\n",
    "print(df)\n",
    "\n",
    "df['Expected Cell Phones per 100 people'] = [2, 3.85, 6.43, 9.33, 11.25]  \n",
    "\n",
    "df['Valid'] = df['Cell Phones per 100 people'].round(2) == df['Expected Cell Phones per 100 people'].round(2)\n",
    "\n",
    "print(\"\\nValidation Results:\")\n",
    "print(df[['Year', 'Cell Phones per 100 people', 'Expected Cell Phones per 100 people','Valid']])"
   ]
  }
 ],
 "metadata": {
  "kernelspec": {
   "display_name": "Python 3",
   "language": "python",
   "name": "python3"
  },
  "language_info": {
   "codemirror_mode": {
    "name": "ipython",
    "version": 3
   },
   "file_extension": ".py",
   "mimetype": "text/x-python",
   "name": "python",
   "nbconvert_exporter": "python",
   "pygments_lexer": "ipython3",
   "version": "3.11.9"
  }
 },
 "nbformat": 4,
 "nbformat_minor": 2
}
